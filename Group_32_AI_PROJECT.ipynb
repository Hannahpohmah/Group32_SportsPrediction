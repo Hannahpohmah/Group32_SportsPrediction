{
  "cells": [
    {
      "cell_type": "markdown",
      "metadata": {
        "id": "8_F6q74i6aIm"
      },
      "source": [
        "#Import libraries and mount drive"
      ]
    },
    {
      "cell_type": "code",
      "execution_count": 2,
      "metadata": {
        "colab": {
          "base_uri": "https://localhost:8080/"
        },
        "id": "4svLSgd_TeOn",
        "outputId": "d67b04a6-9804-4666-e2e4-f2fb25eb4f57"
      },
      "outputs": [
        {
          "output_type": "stream",
          "name": "stdout",
          "text": [
            "Mounted at /content/drive\n"
          ]
        }
      ],
      "source": [
        "import numpy as np\n",
        "import pandas as pd\n",
        "\n",
        "from sklearn.ensemble import RandomForestRegressor\n",
        "from sklearn.ensemble import RandomForestClassifier\n",
        "from sklearn.ensemble import VotingClassifier\n",
        "from sklearn.ensemble import GradientBoostingRegressor\n",
        "\n",
        "\n",
        "import xgboost as xgb\n",
        "import pandas as pd\n",
        "from sklearn.ensemble import RandomForestClassifier, GradientBoostingClassifier\n",
        "from sklearn.metrics import accuracy_score\n",
        "\n",
        "from sklearn.preprocessing import StandardScaler\n",
        "from sklearn.preprocessing import LabelEncoder\n",
        "\n",
        "from sklearn.impute import SimpleImputer\n",
        "\n",
        "from sklearn import svm\n",
        "from sklearn.svm import SVR\n",
        "from sklearn.svm import SVC\n",
        "\n",
        "from sklearn.metrics import accuracy_score, confusion_matrix, classification_report\n",
        "from sklearn.metrics import mean_absolute_error, mean_squared_error\n",
        "from sklearn.model_selection import train_test_split\n",
        "from sklearn.model_selection import GridSearchCV\n",
        "from sklearn.model_selection import cross_val_score\n",
        "from sklearn.model_selection import cross_val_predict\n",
        "from sklearn.linear_model import LogisticRegression\n",
        "\n",
        "from sklearn.tree import DecisionTreeRegressor\n",
        "from sklearn.metrics import roc_auc_score\n",
        "\n",
        "\n",
        "from google.colab import drive\n",
        "drive.mount('/content/drive')"
      ]
    },
    {
      "cell_type": "markdown",
      "metadata": {
        "id": "Np283QOk7ISU"
      },
      "source": [
        "#Data pre-processing and feature engineering"
      ]
    },
    {
      "cell_type": "code",
      "execution_count": 3,
      "metadata": {
        "id": "dzJg16_hTo4M"
      },
      "outputs": [],
      "source": [
        "players_21 = pd.read_csv('/content/drive/My Drive/Colab Notebooks/colab files/players_21.csv')\n"
      ]
    },
    {
      "cell_type": "code",
      "execution_count": 4,
      "metadata": {
        "colab": {
          "base_uri": "https://localhost:8080/"
        },
        "id": "Qq4MeBwGfxmn",
        "outputId": "95dd2d59-c726-4296-9dd9-8dd357b52b15"
      },
      "outputs": [
        {
          "output_type": "stream",
          "name": "stderr",
          "text": [
            "<ipython-input-4-c0af8ff2dfb1>:1: DtypeWarning: Columns (25,108) have mixed types. Specify dtype option on import or set low_memory=False.\n",
            "  players_22 = pd.read_csv('/content/drive/My Drive/Colab Notebooks/colab files/players_22.csv')\n"
          ]
        }
      ],
      "source": [
        "players_22 = pd.read_csv('/content/drive/My Drive/Colab Notebooks/colab files/players_22.csv')"
      ]
    },
    {
      "cell_type": "code",
      "execution_count": 5,
      "metadata": {
        "colab": {
          "base_uri": "https://localhost:8080/"
        },
        "id": "t1L1W20tT72q",
        "outputId": "e34f74b0-c090-4a51-bc50-eda78ac912b1"
      },
      "outputs": [
        {
          "output_type": "stream",
          "name": "stdout",
          "text": [
            "<class 'pandas.core.frame.DataFrame'>\n",
            "RangeIndex: 18944 entries, 0 to 18943\n",
            "Columns: 110 entries, sofifa_id to nation_flag_url\n",
            "dtypes: float64(16), int64(44), object(50)\n",
            "memory usage: 15.9+ MB\n"
          ]
        }
      ],
      "source": [
        "players_21.info()"
      ]
    },
    {
      "cell_type": "code",
      "execution_count": 6,
      "metadata": {
        "colab": {
          "base_uri": "https://localhost:8080/"
        },
        "id": "5zxHp_yoZAa2",
        "outputId": "5204f9bc-01c7-4ee5-d5c3-5b70ce027593"
      },
      "outputs": [
        {
          "output_type": "stream",
          "name": "stdout",
          "text": [
            "['sofifa_id', 'player_url', 'short_name', 'long_name', 'player_positions', 'overall', 'potential', 'value_eur', 'wage_eur', 'age', 'dob', 'height_cm', 'weight_kg', 'club_team_id', 'club_name', 'league_name', 'league_level', 'club_position', 'club_jersey_number', 'club_loaned_from', 'club_joined', 'club_contract_valid_until', 'nationality_id', 'nationality_name', 'nation_team_id', 'nation_position', 'nation_jersey_number', 'preferred_foot', 'weak_foot', 'skill_moves', 'international_reputation', 'work_rate', 'body_type', 'real_face', 'release_clause_eur', 'player_tags', 'player_traits', 'pace', 'shooting', 'passing', 'dribbling', 'defending', 'physic', 'attacking_crossing', 'attacking_finishing', 'attacking_heading_accuracy', 'attacking_short_passing', 'attacking_volleys', 'skill_dribbling', 'skill_curve', 'skill_fk_accuracy', 'skill_long_passing', 'skill_ball_control', 'movement_acceleration', 'movement_sprint_speed', 'movement_agility', 'movement_reactions', 'movement_balance', 'power_shot_power', 'power_jumping', 'power_stamina', 'power_strength', 'power_long_shots', 'mentality_aggression', 'mentality_interceptions', 'mentality_positioning', 'mentality_vision', 'mentality_penalties', 'mentality_composure', 'defending_marking_awareness', 'defending_standing_tackle', 'defending_sliding_tackle', 'goalkeeping_diving', 'goalkeeping_handling', 'goalkeeping_kicking', 'goalkeeping_positioning', 'goalkeeping_reflexes', 'goalkeeping_speed', 'ls', 'st', 'rs', 'lw', 'lf', 'cf', 'rf', 'rw', 'lam', 'cam', 'ram', 'lm', 'lcm', 'cm', 'rcm', 'rm', 'lwb', 'ldm', 'cdm', 'rdm', 'rwb', 'lb', 'lcb', 'cb', 'rcb', 'rb', 'gk', 'player_face_url', 'club_logo_url', 'club_flag_url', 'nation_logo_url', 'nation_flag_url']\n"
          ]
        }
      ],
      "source": [
        "columns_list = players_21.columns.tolist()\n",
        "print(columns_list)"
      ]
    },
    {
      "cell_type": "code",
      "execution_count": 7,
      "metadata": {
        "colab": {
          "base_uri": "https://localhost:8080/"
        },
        "id": "iW9ybDR2V8v1",
        "outputId": "7a996c88-1ed7-4039-f8ff-cf9ab68b1e9a"
      },
      "outputs": [
        {
          "output_type": "stream",
          "name": "stdout",
          "text": [
            "club_loaned_from - 96%\n",
            "nation_team_id - 94%\n",
            "nation_position - 94%\n",
            "nation_jersey_number - 94%\n",
            "player_tags - 93%\n",
            "player_traits - 56%\n",
            "goalkeeping_speed - 89%\n",
            "nation_logo_url - 94%\n",
            "(18944, 102)\n"
          ]
        }
      ],
      "source": [
        "#Dropping columns with data sets that have 50% missing values\n",
        "cols_to_drop = []\n",
        "for i in players_21.columns:\n",
        "    missing = np.abs((players_21[i].count() - players_21[i].shape[0])/players_21[i].shape[0] * 100)\n",
        "    if missing > 50:\n",
        "        print('{} - {}%'.format(i, round(missing)))\n",
        "        cols_to_drop.append(i)\n",
        "\n",
        "players_21.drop(columns=cols_to_drop,inplace=True)\n",
        "print(players_21.shape)\n",
        "\n",
        "columns_to_drop = ['sofifa_id', 'player_url', 'player_face_url', 'club_logo_url', 'club_flag_url', 'nation_flag_url']\n",
        "players_21.drop(columns=columns_to_drop,inplace=True)"
      ]
    },
    {
      "cell_type": "code",
      "execution_count": 8,
      "metadata": {
        "id": "Jj01A6WJFeOj"
      },
      "outputs": [],
      "source": [
        "selected_columns = ['overall','potential', 'wage_eur','age','height_cm','weight_kg','preferred_foot', 'international_reputation', 'release_clause_eur','pace',\n",
        "                    'shooting', 'passing', 'dribbling', 'physic', 'attacking_crossing', 'attacking_finishing','attacking_heading_accuracy',\n",
        "                    'attacking_short_passing','attacking_volleys','skill_dribbling',\n",
        "                    'skill_curve', 'skill_fk_accuracy','skill_long_passing', 'skill_ball_control','movement_acceleration',\n",
        "                    'movement_sprint_speed','movement_agility','movement_reactions','movement_balance', 'power_shot_power','power_stamina',\n",
        "                    'power_strength','power_long_shots', 'mentality_aggression','mentality_interceptions','mentality_positioning', 'mentality_vision',\n",
        "                    'mentality_composure','defending_marking_awareness','defending_standing_tackle','defending_sliding_tackle','goalkeeping_diving',\n",
        "                   'goalkeeping_handling', 'goalkeeping_kicking','goalkeeping_positioning','goalkeeping_reflexes']\n",
        "\n",
        "players_21_Data= players_21[selected_columns]\n"
      ]
    },
    {
      "cell_type": "code",
      "execution_count": 9,
      "metadata": {
        "id": "IDsoIftgbsFv"
      },
      "outputs": [],
      "source": [
        "# Split dataset into categorical and numeric\n",
        "categorical_data =players_21_Data.select_dtypes(include=['object'])\n",
        "numeric_data = players_21_Data.select_dtypes(exclude=['object'])\n",
        "\n",
        "#imputing numeric\n",
        "imp=SimpleImputer()\n",
        "imputed_data=imp.fit_transform(numeric_data)\n",
        "df_numeric =pd.DataFrame(imputed_data, columns=numeric_data.columns)\n",
        "\n",
        "#imputing non_numeric\n",
        "df = pd.DataFrame(categorical_data)\n",
        "columns=categorical_data.columns\n",
        "modes = df[columns].mode().iloc[0]\n",
        "df[columns] = df[columns].fillna(modes)\n"
      ]
    },
    {
      "cell_type": "code",
      "execution_count": 10,
      "metadata": {
        "colab": {
          "base_uri": "https://localhost:8080/"
        },
        "id": "SnK0BKWoq_ya",
        "outputId": "28623e95-b8c3-4cf8-d4cd-fc345ee3797c"
      },
      "outputs": [
        {
          "output_type": "stream",
          "name": "stdout",
          "text": [
            "[0 1 1 ... 1 1 1]\n"
          ]
        },
        {
          "output_type": "stream",
          "name": "stderr",
          "text": [
            "/usr/local/lib/python3.10/dist-packages/sklearn/preprocessing/_label.py:116: DataConversionWarning: A column-vector y was passed when a 1d array was expected. Please change the shape of y to (n_samples, ), for example using ravel().\n",
            "  y = column_or_1d(y, warn=True)\n"
          ]
        }
      ],
      "source": [
        "# Create a LabelEncoder object\n",
        "label_encoder = LabelEncoder()\n",
        "\n",
        "# Fit the encoder to the data and transform the data\n",
        "encoded_data = label_encoder.fit_transform(df)\n",
        "\n",
        "# The encoded_data variable now contains numerical labels\n",
        "print(encoded_data)\n"
      ]
    },
    {
      "cell_type": "code",
      "execution_count": 11,
      "metadata": {
        "colab": {
          "base_uri": "https://localhost:8080/",
          "height": 0
        },
        "id": "skeBquHmKw8M",
        "outputId": "4779d95a-a8cf-429e-9f79-c4d3ebcfca46"
      },
      "outputs": [
        {
          "output_type": "execute_result",
          "data": {
            "text/plain": [
              "       overall  potential  wage_eur   age  height_cm  weight_kg  \\\n",
              "0         93.0       93.0  560000.0  33.0      170.0       72.0   \n",
              "1         92.0       92.0  220000.0  35.0      187.0       83.0   \n",
              "2         91.0       91.0  240000.0  31.0      184.0       80.0   \n",
              "3         91.0       91.0  270000.0  28.0      175.0       68.0   \n",
              "4         91.0       91.0  370000.0  29.0      181.0       70.0   \n",
              "...        ...        ...       ...   ...        ...        ...   \n",
              "18939     47.0       52.0    1000.0  21.0      177.0       70.0   \n",
              "18940     47.0       53.0    1000.0  21.0      174.0       68.0   \n",
              "18941     47.0       47.0    2000.0  28.0      185.0       79.0   \n",
              "18942     47.0       67.0     500.0  17.0      171.0       58.0   \n",
              "18943     47.0       67.0     500.0  17.0      175.0       65.0   \n",
              "\n",
              "       international_reputation  release_clause_eur  pace  shooting  ...  \\\n",
              "0                           5.0         138400000.0  85.0      92.0  ...   \n",
              "1                           5.0          75900000.0  89.0      93.0  ...   \n",
              "2                           4.0         132000000.0  78.0      91.0  ...   \n",
              "3                           5.0         166500000.0  91.0      85.0  ...   \n",
              "4                           4.0         161000000.0  76.0      86.0  ...   \n",
              "...                         ...                 ...   ...       ...  ...   \n",
              "18939                       1.0             57000.0  58.0      23.0  ...   \n",
              "18940                       1.0             72000.0  58.0      32.0  ...   \n",
              "18941                       1.0             47000.0  65.0      37.0  ...   \n",
              "18942                       1.0            165000.0  70.0      46.0  ...   \n",
              "18943                       1.0            165000.0  64.0      40.0  ...   \n",
              "\n",
              "       mentality_composure  defending_marking_awareness  \\\n",
              "0                     96.0                         32.0   \n",
              "1                     95.0                         28.0   \n",
              "2                     88.0                         35.0   \n",
              "3                     93.0                         35.0   \n",
              "4                     91.0                         68.0   \n",
              "...                    ...                          ...   \n",
              "18939                 40.0                         45.0   \n",
              "18940                 35.0                         43.0   \n",
              "18941                 35.0                         38.0   \n",
              "18942                 45.0                         18.0   \n",
              "18943                 38.0                         32.0   \n",
              "\n",
              "       defending_standing_tackle  defending_sliding_tackle  \\\n",
              "0                           35.0                      24.0   \n",
              "1                           32.0                      24.0   \n",
              "2                           42.0                      19.0   \n",
              "3                           30.0                      29.0   \n",
              "4                           65.0                      53.0   \n",
              "...                          ...                       ...   \n",
              "18939                       56.0                      47.0   \n",
              "18940                       42.0                      53.0   \n",
              "18941                       43.0                      45.0   \n",
              "18942                       11.0                      13.0   \n",
              "18943                       44.0                      40.0   \n",
              "\n",
              "       goalkeeping_diving  goalkeeping_handling  goalkeeping_kicking  \\\n",
              "0                     6.0                  11.0                 15.0   \n",
              "1                     7.0                  11.0                 15.0   \n",
              "2                    15.0                   6.0                 12.0   \n",
              "3                     9.0                   9.0                 15.0   \n",
              "4                    15.0                  13.0                  5.0   \n",
              "...                   ...                   ...                  ...   \n",
              "18939                12.0                  13.0                  8.0   \n",
              "18940                 8.0                   8.0                 13.0   \n",
              "18941                 8.0                   5.0                 11.0   \n",
              "18942                11.0                  13.0                  9.0   \n",
              "18943                12.0                  10.0                  9.0   \n",
              "\n",
              "       goalkeeping_positioning  goalkeeping_reflexes  preferred_foot  \n",
              "0                         14.0                   8.0               0  \n",
              "1                         14.0                  11.0               1  \n",
              "2                          8.0                  10.0               1  \n",
              "3                         15.0                  11.0               1  \n",
              "4                         10.0                  13.0               1  \n",
              "...                        ...                   ...             ...  \n",
              "18939                     14.0                   6.0               1  \n",
              "18940                     14.0                  10.0               1  \n",
              "18941                      5.0                   7.0               1  \n",
              "18942                      9.0                   6.0               1  \n",
              "18943                      6.0                   8.0               1  \n",
              "\n",
              "[18944 rows x 46 columns]"
            ],
            "text/html": [
              "\n",
              "  <div id=\"df-6699b0b9-ab4c-44f8-ad51-dd7dce8a012f\" class=\"colab-df-container\">\n",
              "    <div>\n",
              "<style scoped>\n",
              "    .dataframe tbody tr th:only-of-type {\n",
              "        vertical-align: middle;\n",
              "    }\n",
              "\n",
              "    .dataframe tbody tr th {\n",
              "        vertical-align: top;\n",
              "    }\n",
              "\n",
              "    .dataframe thead th {\n",
              "        text-align: right;\n",
              "    }\n",
              "</style>\n",
              "<table border=\"1\" class=\"dataframe\">\n",
              "  <thead>\n",
              "    <tr style=\"text-align: right;\">\n",
              "      <th></th>\n",
              "      <th>overall</th>\n",
              "      <th>potential</th>\n",
              "      <th>wage_eur</th>\n",
              "      <th>age</th>\n",
              "      <th>height_cm</th>\n",
              "      <th>weight_kg</th>\n",
              "      <th>international_reputation</th>\n",
              "      <th>release_clause_eur</th>\n",
              "      <th>pace</th>\n",
              "      <th>shooting</th>\n",
              "      <th>...</th>\n",
              "      <th>mentality_composure</th>\n",
              "      <th>defending_marking_awareness</th>\n",
              "      <th>defending_standing_tackle</th>\n",
              "      <th>defending_sliding_tackle</th>\n",
              "      <th>goalkeeping_diving</th>\n",
              "      <th>goalkeeping_handling</th>\n",
              "      <th>goalkeeping_kicking</th>\n",
              "      <th>goalkeeping_positioning</th>\n",
              "      <th>goalkeeping_reflexes</th>\n",
              "      <th>preferred_foot</th>\n",
              "    </tr>\n",
              "  </thead>\n",
              "  <tbody>\n",
              "    <tr>\n",
              "      <th>0</th>\n",
              "      <td>93.0</td>\n",
              "      <td>93.0</td>\n",
              "      <td>560000.0</td>\n",
              "      <td>33.0</td>\n",
              "      <td>170.0</td>\n",
              "      <td>72.0</td>\n",
              "      <td>5.0</td>\n",
              "      <td>138400000.0</td>\n",
              "      <td>85.0</td>\n",
              "      <td>92.0</td>\n",
              "      <td>...</td>\n",
              "      <td>96.0</td>\n",
              "      <td>32.0</td>\n",
              "      <td>35.0</td>\n",
              "      <td>24.0</td>\n",
              "      <td>6.0</td>\n",
              "      <td>11.0</td>\n",
              "      <td>15.0</td>\n",
              "      <td>14.0</td>\n",
              "      <td>8.0</td>\n",
              "      <td>0</td>\n",
              "    </tr>\n",
              "    <tr>\n",
              "      <th>1</th>\n",
              "      <td>92.0</td>\n",
              "      <td>92.0</td>\n",
              "      <td>220000.0</td>\n",
              "      <td>35.0</td>\n",
              "      <td>187.0</td>\n",
              "      <td>83.0</td>\n",
              "      <td>5.0</td>\n",
              "      <td>75900000.0</td>\n",
              "      <td>89.0</td>\n",
              "      <td>93.0</td>\n",
              "      <td>...</td>\n",
              "      <td>95.0</td>\n",
              "      <td>28.0</td>\n",
              "      <td>32.0</td>\n",
              "      <td>24.0</td>\n",
              "      <td>7.0</td>\n",
              "      <td>11.0</td>\n",
              "      <td>15.0</td>\n",
              "      <td>14.0</td>\n",
              "      <td>11.0</td>\n",
              "      <td>1</td>\n",
              "    </tr>\n",
              "    <tr>\n",
              "      <th>2</th>\n",
              "      <td>91.0</td>\n",
              "      <td>91.0</td>\n",
              "      <td>240000.0</td>\n",
              "      <td>31.0</td>\n",
              "      <td>184.0</td>\n",
              "      <td>80.0</td>\n",
              "      <td>4.0</td>\n",
              "      <td>132000000.0</td>\n",
              "      <td>78.0</td>\n",
              "      <td>91.0</td>\n",
              "      <td>...</td>\n",
              "      <td>88.0</td>\n",
              "      <td>35.0</td>\n",
              "      <td>42.0</td>\n",
              "      <td>19.0</td>\n",
              "      <td>15.0</td>\n",
              "      <td>6.0</td>\n",
              "      <td>12.0</td>\n",
              "      <td>8.0</td>\n",
              "      <td>10.0</td>\n",
              "      <td>1</td>\n",
              "    </tr>\n",
              "    <tr>\n",
              "      <th>3</th>\n",
              "      <td>91.0</td>\n",
              "      <td>91.0</td>\n",
              "      <td>270000.0</td>\n",
              "      <td>28.0</td>\n",
              "      <td>175.0</td>\n",
              "      <td>68.0</td>\n",
              "      <td>5.0</td>\n",
              "      <td>166500000.0</td>\n",
              "      <td>91.0</td>\n",
              "      <td>85.0</td>\n",
              "      <td>...</td>\n",
              "      <td>93.0</td>\n",
              "      <td>35.0</td>\n",
              "      <td>30.0</td>\n",
              "      <td>29.0</td>\n",
              "      <td>9.0</td>\n",
              "      <td>9.0</td>\n",
              "      <td>15.0</td>\n",
              "      <td>15.0</td>\n",
              "      <td>11.0</td>\n",
              "      <td>1</td>\n",
              "    </tr>\n",
              "    <tr>\n",
              "      <th>4</th>\n",
              "      <td>91.0</td>\n",
              "      <td>91.0</td>\n",
              "      <td>370000.0</td>\n",
              "      <td>29.0</td>\n",
              "      <td>181.0</td>\n",
              "      <td>70.0</td>\n",
              "      <td>4.0</td>\n",
              "      <td>161000000.0</td>\n",
              "      <td>76.0</td>\n",
              "      <td>86.0</td>\n",
              "      <td>...</td>\n",
              "      <td>91.0</td>\n",
              "      <td>68.0</td>\n",
              "      <td>65.0</td>\n",
              "      <td>53.0</td>\n",
              "      <td>15.0</td>\n",
              "      <td>13.0</td>\n",
              "      <td>5.0</td>\n",
              "      <td>10.0</td>\n",
              "      <td>13.0</td>\n",
              "      <td>1</td>\n",
              "    </tr>\n",
              "    <tr>\n",
              "      <th>...</th>\n",
              "      <td>...</td>\n",
              "      <td>...</td>\n",
              "      <td>...</td>\n",
              "      <td>...</td>\n",
              "      <td>...</td>\n",
              "      <td>...</td>\n",
              "      <td>...</td>\n",
              "      <td>...</td>\n",
              "      <td>...</td>\n",
              "      <td>...</td>\n",
              "      <td>...</td>\n",
              "      <td>...</td>\n",
              "      <td>...</td>\n",
              "      <td>...</td>\n",
              "      <td>...</td>\n",
              "      <td>...</td>\n",
              "      <td>...</td>\n",
              "      <td>...</td>\n",
              "      <td>...</td>\n",
              "      <td>...</td>\n",
              "      <td>...</td>\n",
              "    </tr>\n",
              "    <tr>\n",
              "      <th>18939</th>\n",
              "      <td>47.0</td>\n",
              "      <td>52.0</td>\n",
              "      <td>1000.0</td>\n",
              "      <td>21.0</td>\n",
              "      <td>177.0</td>\n",
              "      <td>70.0</td>\n",
              "      <td>1.0</td>\n",
              "      <td>57000.0</td>\n",
              "      <td>58.0</td>\n",
              "      <td>23.0</td>\n",
              "      <td>...</td>\n",
              "      <td>40.0</td>\n",
              "      <td>45.0</td>\n",
              "      <td>56.0</td>\n",
              "      <td>47.0</td>\n",
              "      <td>12.0</td>\n",
              "      <td>13.0</td>\n",
              "      <td>8.0</td>\n",
              "      <td>14.0</td>\n",
              "      <td>6.0</td>\n",
              "      <td>1</td>\n",
              "    </tr>\n",
              "    <tr>\n",
              "      <th>18940</th>\n",
              "      <td>47.0</td>\n",
              "      <td>53.0</td>\n",
              "      <td>1000.0</td>\n",
              "      <td>21.0</td>\n",
              "      <td>174.0</td>\n",
              "      <td>68.0</td>\n",
              "      <td>1.0</td>\n",
              "      <td>72000.0</td>\n",
              "      <td>58.0</td>\n",
              "      <td>32.0</td>\n",
              "      <td>...</td>\n",
              "      <td>35.0</td>\n",
              "      <td>43.0</td>\n",
              "      <td>42.0</td>\n",
              "      <td>53.0</td>\n",
              "      <td>8.0</td>\n",
              "      <td>8.0</td>\n",
              "      <td>13.0</td>\n",
              "      <td>14.0</td>\n",
              "      <td>10.0</td>\n",
              "      <td>1</td>\n",
              "    </tr>\n",
              "    <tr>\n",
              "      <th>18941</th>\n",
              "      <td>47.0</td>\n",
              "      <td>47.0</td>\n",
              "      <td>2000.0</td>\n",
              "      <td>28.0</td>\n",
              "      <td>185.0</td>\n",
              "      <td>79.0</td>\n",
              "      <td>1.0</td>\n",
              "      <td>47000.0</td>\n",
              "      <td>65.0</td>\n",
              "      <td>37.0</td>\n",
              "      <td>...</td>\n",
              "      <td>35.0</td>\n",
              "      <td>38.0</td>\n",
              "      <td>43.0</td>\n",
              "      <td>45.0</td>\n",
              "      <td>8.0</td>\n",
              "      <td>5.0</td>\n",
              "      <td>11.0</td>\n",
              "      <td>5.0</td>\n",
              "      <td>7.0</td>\n",
              "      <td>1</td>\n",
              "    </tr>\n",
              "    <tr>\n",
              "      <th>18942</th>\n",
              "      <td>47.0</td>\n",
              "      <td>67.0</td>\n",
              "      <td>500.0</td>\n",
              "      <td>17.0</td>\n",
              "      <td>171.0</td>\n",
              "      <td>58.0</td>\n",
              "      <td>1.0</td>\n",
              "      <td>165000.0</td>\n",
              "      <td>70.0</td>\n",
              "      <td>46.0</td>\n",
              "      <td>...</td>\n",
              "      <td>45.0</td>\n",
              "      <td>18.0</td>\n",
              "      <td>11.0</td>\n",
              "      <td>13.0</td>\n",
              "      <td>11.0</td>\n",
              "      <td>13.0</td>\n",
              "      <td>9.0</td>\n",
              "      <td>9.0</td>\n",
              "      <td>6.0</td>\n",
              "      <td>1</td>\n",
              "    </tr>\n",
              "    <tr>\n",
              "      <th>18943</th>\n",
              "      <td>47.0</td>\n",
              "      <td>67.0</td>\n",
              "      <td>500.0</td>\n",
              "      <td>17.0</td>\n",
              "      <td>175.0</td>\n",
              "      <td>65.0</td>\n",
              "      <td>1.0</td>\n",
              "      <td>165000.0</td>\n",
              "      <td>64.0</td>\n",
              "      <td>40.0</td>\n",
              "      <td>...</td>\n",
              "      <td>38.0</td>\n",
              "      <td>32.0</td>\n",
              "      <td>44.0</td>\n",
              "      <td>40.0</td>\n",
              "      <td>12.0</td>\n",
              "      <td>10.0</td>\n",
              "      <td>9.0</td>\n",
              "      <td>6.0</td>\n",
              "      <td>8.0</td>\n",
              "      <td>1</td>\n",
              "    </tr>\n",
              "  </tbody>\n",
              "</table>\n",
              "<p>18944 rows × 46 columns</p>\n",
              "</div>\n",
              "    <div class=\"colab-df-buttons\">\n",
              "\n",
              "  <div class=\"colab-df-container\">\n",
              "    <button class=\"colab-df-convert\" onclick=\"convertToInteractive('df-6699b0b9-ab4c-44f8-ad51-dd7dce8a012f')\"\n",
              "            title=\"Convert this dataframe to an interactive table.\"\n",
              "            style=\"display:none;\">\n",
              "\n",
              "  <svg xmlns=\"http://www.w3.org/2000/svg\" height=\"24px\" viewBox=\"0 -960 960 960\">\n",
              "    <path d=\"M120-120v-720h720v720H120Zm60-500h600v-160H180v160Zm220 220h160v-160H400v160Zm0 220h160v-160H400v160ZM180-400h160v-160H180v160Zm440 0h160v-160H620v160ZM180-180h160v-160H180v160Zm440 0h160v-160H620v160Z\"/>\n",
              "  </svg>\n",
              "    </button>\n",
              "\n",
              "  <style>\n",
              "    .colab-df-container {\n",
              "      display:flex;\n",
              "      gap: 12px;\n",
              "    }\n",
              "\n",
              "    .colab-df-convert {\n",
              "      background-color: #E8F0FE;\n",
              "      border: none;\n",
              "      border-radius: 50%;\n",
              "      cursor: pointer;\n",
              "      display: none;\n",
              "      fill: #1967D2;\n",
              "      height: 32px;\n",
              "      padding: 0 0 0 0;\n",
              "      width: 32px;\n",
              "    }\n",
              "\n",
              "    .colab-df-convert:hover {\n",
              "      background-color: #E2EBFA;\n",
              "      box-shadow: 0px 1px 2px rgba(60, 64, 67, 0.3), 0px 1px 3px 1px rgba(60, 64, 67, 0.15);\n",
              "      fill: #174EA6;\n",
              "    }\n",
              "\n",
              "    .colab-df-buttons div {\n",
              "      margin-bottom: 4px;\n",
              "    }\n",
              "\n",
              "    [theme=dark] .colab-df-convert {\n",
              "      background-color: #3B4455;\n",
              "      fill: #D2E3FC;\n",
              "    }\n",
              "\n",
              "    [theme=dark] .colab-df-convert:hover {\n",
              "      background-color: #434B5C;\n",
              "      box-shadow: 0px 1px 3px 1px rgba(0, 0, 0, 0.15);\n",
              "      filter: drop-shadow(0px 1px 2px rgba(0, 0, 0, 0.3));\n",
              "      fill: #FFFFFF;\n",
              "    }\n",
              "  </style>\n",
              "\n",
              "    <script>\n",
              "      const buttonEl =\n",
              "        document.querySelector('#df-6699b0b9-ab4c-44f8-ad51-dd7dce8a012f button.colab-df-convert');\n",
              "      buttonEl.style.display =\n",
              "        google.colab.kernel.accessAllowed ? 'block' : 'none';\n",
              "\n",
              "      async function convertToInteractive(key) {\n",
              "        const element = document.querySelector('#df-6699b0b9-ab4c-44f8-ad51-dd7dce8a012f');\n",
              "        const dataTable =\n",
              "          await google.colab.kernel.invokeFunction('convertToInteractive',\n",
              "                                                    [key], {});\n",
              "        if (!dataTable) return;\n",
              "\n",
              "        const docLinkHtml = 'Like what you see? Visit the ' +\n",
              "          '<a target=\"_blank\" href=https://colab.research.google.com/notebooks/data_table.ipynb>data table notebook</a>'\n",
              "          + ' to learn more about interactive tables.';\n",
              "        element.innerHTML = '';\n",
              "        dataTable['output_type'] = 'display_data';\n",
              "        await google.colab.output.renderOutput(dataTable, element);\n",
              "        const docLink = document.createElement('div');\n",
              "        docLink.innerHTML = docLinkHtml;\n",
              "        element.appendChild(docLink);\n",
              "      }\n",
              "    </script>\n",
              "  </div>\n",
              "\n",
              "\n",
              "<div id=\"df-737003e6-9c9f-45e2-9715-672975cede4b\">\n",
              "  <button class=\"colab-df-quickchart\" onclick=\"quickchart('df-737003e6-9c9f-45e2-9715-672975cede4b')\"\n",
              "            title=\"Suggest charts.\"\n",
              "            style=\"display:none;\">\n",
              "\n",
              "<svg xmlns=\"http://www.w3.org/2000/svg\" height=\"24px\"viewBox=\"0 0 24 24\"\n",
              "     width=\"24px\">\n",
              "    <g>\n",
              "        <path d=\"M19 3H5c-1.1 0-2 .9-2 2v14c0 1.1.9 2 2 2h14c1.1 0 2-.9 2-2V5c0-1.1-.9-2-2-2zM9 17H7v-7h2v7zm4 0h-2V7h2v10zm4 0h-2v-4h2v4z\"/>\n",
              "    </g>\n",
              "</svg>\n",
              "  </button>\n",
              "\n",
              "<style>\n",
              "  .colab-df-quickchart {\n",
              "      --bg-color: #E8F0FE;\n",
              "      --fill-color: #1967D2;\n",
              "      --hover-bg-color: #E2EBFA;\n",
              "      --hover-fill-color: #174EA6;\n",
              "      --disabled-fill-color: #AAA;\n",
              "      --disabled-bg-color: #DDD;\n",
              "  }\n",
              "\n",
              "  [theme=dark] .colab-df-quickchart {\n",
              "      --bg-color: #3B4455;\n",
              "      --fill-color: #D2E3FC;\n",
              "      --hover-bg-color: #434B5C;\n",
              "      --hover-fill-color: #FFFFFF;\n",
              "      --disabled-bg-color: #3B4455;\n",
              "      --disabled-fill-color: #666;\n",
              "  }\n",
              "\n",
              "  .colab-df-quickchart {\n",
              "    background-color: var(--bg-color);\n",
              "    border: none;\n",
              "    border-radius: 50%;\n",
              "    cursor: pointer;\n",
              "    display: none;\n",
              "    fill: var(--fill-color);\n",
              "    height: 32px;\n",
              "    padding: 0;\n",
              "    width: 32px;\n",
              "  }\n",
              "\n",
              "  .colab-df-quickchart:hover {\n",
              "    background-color: var(--hover-bg-color);\n",
              "    box-shadow: 0 1px 2px rgba(60, 64, 67, 0.3), 0 1px 3px 1px rgba(60, 64, 67, 0.15);\n",
              "    fill: var(--button-hover-fill-color);\n",
              "  }\n",
              "\n",
              "  .colab-df-quickchart-complete:disabled,\n",
              "  .colab-df-quickchart-complete:disabled:hover {\n",
              "    background-color: var(--disabled-bg-color);\n",
              "    fill: var(--disabled-fill-color);\n",
              "    box-shadow: none;\n",
              "  }\n",
              "\n",
              "  .colab-df-spinner {\n",
              "    border: 2px solid var(--fill-color);\n",
              "    border-color: transparent;\n",
              "    border-bottom-color: var(--fill-color);\n",
              "    animation:\n",
              "      spin 1s steps(1) infinite;\n",
              "  }\n",
              "\n",
              "  @keyframes spin {\n",
              "    0% {\n",
              "      border-color: transparent;\n",
              "      border-bottom-color: var(--fill-color);\n",
              "      border-left-color: var(--fill-color);\n",
              "    }\n",
              "    20% {\n",
              "      border-color: transparent;\n",
              "      border-left-color: var(--fill-color);\n",
              "      border-top-color: var(--fill-color);\n",
              "    }\n",
              "    30% {\n",
              "      border-color: transparent;\n",
              "      border-left-color: var(--fill-color);\n",
              "      border-top-color: var(--fill-color);\n",
              "      border-right-color: var(--fill-color);\n",
              "    }\n",
              "    40% {\n",
              "      border-color: transparent;\n",
              "      border-right-color: var(--fill-color);\n",
              "      border-top-color: var(--fill-color);\n",
              "    }\n",
              "    60% {\n",
              "      border-color: transparent;\n",
              "      border-right-color: var(--fill-color);\n",
              "    }\n",
              "    80% {\n",
              "      border-color: transparent;\n",
              "      border-right-color: var(--fill-color);\n",
              "      border-bottom-color: var(--fill-color);\n",
              "    }\n",
              "    90% {\n",
              "      border-color: transparent;\n",
              "      border-bottom-color: var(--fill-color);\n",
              "    }\n",
              "  }\n",
              "</style>\n",
              "\n",
              "  <script>\n",
              "    async function quickchart(key) {\n",
              "      const quickchartButtonEl =\n",
              "        document.querySelector('#' + key + ' button');\n",
              "      quickchartButtonEl.disabled = true;  // To prevent multiple clicks.\n",
              "      quickchartButtonEl.classList.add('colab-df-spinner');\n",
              "      try {\n",
              "        const charts = await google.colab.kernel.invokeFunction(\n",
              "            'suggestCharts', [key], {});\n",
              "      } catch (error) {\n",
              "        console.error('Error during call to suggestCharts:', error);\n",
              "      }\n",
              "      quickchartButtonEl.classList.remove('colab-df-spinner');\n",
              "      quickchartButtonEl.classList.add('colab-df-quickchart-complete');\n",
              "    }\n",
              "    (() => {\n",
              "      let quickchartButtonEl =\n",
              "        document.querySelector('#df-737003e6-9c9f-45e2-9715-672975cede4b button');\n",
              "      quickchartButtonEl.style.display =\n",
              "        google.colab.kernel.accessAllowed ? 'block' : 'none';\n",
              "    })();\n",
              "  </script>\n",
              "</div>\n",
              "    </div>\n",
              "  </div>\n"
            ]
          },
          "metadata": {},
          "execution_count": 11
        }
      ],
      "source": [
        "df_encoded= pd.DataFrame(encoded_data, columns=categorical_data.columns)\n",
        "New_players_21 = pd.concat([df_numeric,df_encoded], axis=1)\n",
        "New_players_21"
      ]
    },
    {
      "cell_type": "markdown",
      "metadata": {
        "id": "wAFkTkdwng3U"
      },
      "source": [
        "#Checking for maximum correlation\n"
      ]
    },
    {
      "cell_type": "code",
      "execution_count": 12,
      "metadata": {
        "colab": {
          "base_uri": "https://localhost:8080/"
        },
        "id": "ElHDpeGjqb_W",
        "outputId": "fbb2bffe-0b8d-4e1b-f031-75cc5d5264f0"
      },
      "outputs": [
        {
          "output_type": "stream",
          "name": "stdout",
          "text": [
            "Subset 1: [0, 26, 36, 10, 1, 7, 11, 2, 28, 35, 16, 12, 21, 3, 9, 22, 6, 19, 13, 31, 32, 20, 29, 18, 17, 30, 34, 15, 14, 37, 33, 25, 38, 39, 24, 23, 8, 5, 27, 45, 4, 43, 44, 41, 40]\n",
            "Subset 2: [0, 26, 36, 10, 1, 7, 11, 2, 28, 35, 16, 12, 21, 3, 9, 22, 6, 19, 13, 31, 32, 20, 29, 18, 17, 30, 34, 15, 14, 37, 33, 25, 38, 39, 24, 23, 8, 5, 27, 45, 4, 43, 44, 41, 40]\n",
            "Subset 3: [0, 26, 36, 10, 1, 7, 11, 2, 28, 35, 16, 12, 21, 3, 9, 22, 6, 19, 13, 31, 32, 20, 29, 18, 17, 30, 34, 15, 14, 37, 33, 25, 38, 39, 24, 23, 8, 5, 27, 45, 4, 43, 44, 41, 40]\n",
            "Subset 4: [0, 26, 36, 10, 1, 7, 11, 2, 28, 35, 16, 12, 21, 3, 9, 22, 6, 19, 13, 31, 32, 20, 29, 18, 17, 30, 34, 15, 14, 37, 33, 25, 38, 39, 24, 23, 8, 5, 27, 45, 4, 43, 44, 41, 40]\n",
            "Subset 5: [0, 26, 36, 10, 1, 7, 11, 2, 28, 35, 16, 12, 21, 3, 9, 22, 6, 19, 13, 31, 32, 20, 29, 18, 17, 30, 34, 15, 14, 37, 33, 25, 38, 39, 24, 23, 8, 5, 27, 45, 4, 43, 44, 41, 40]\n",
            "Subset 6: [0, 26, 36, 10, 1, 7, 11, 2, 28, 35, 16, 12, 21, 3, 9, 22, 6, 19, 13, 31, 32, 20, 29, 18, 17, 30, 34, 15, 14, 37, 33, 25, 38, 39, 24, 23, 8, 5, 27, 45, 4, 43, 44, 41, 40]\n",
            "Subset 7: [0, 26, 36, 10, 1, 7, 11, 2, 28, 35, 16, 12, 21, 3, 9, 22, 6, 19, 13, 31, 32, 20, 29, 18, 17, 30, 34, 15, 14, 37, 33, 25, 38, 39, 24, 23, 8, 5, 27, 45, 4, 43, 44, 41, 40]\n",
            "Subset 8: [0, 26, 36, 10, 1, 7, 11, 2, 28, 35, 16, 12, 21, 3, 9, 22, 6, 19, 13, 31, 32, 20, 29, 18, 17, 30, 34, 15, 14, 37, 33, 25, 38, 39, 24, 23, 8, 5, 27, 45, 4, 43, 44, 41, 40]\n",
            "Subset 9: [0, 26, 36, 10, 1, 7, 11, 2, 28, 35, 16, 12, 21, 3, 9, 22, 6, 19, 13, 31, 32, 20, 29, 18, 17, 30, 34, 15, 14, 37, 33, 25, 38, 39, 24, 23, 8, 5, 27, 45, 4, 43, 44, 41, 40]\n",
            "Subset 10: [0, 26, 36, 10, 1, 7, 11, 2, 28, 35, 16, 12, 21, 3, 9, 22, 6, 19, 13, 31, 32, 20, 29, 18, 17, 30, 34, 15, 14, 37, 33, 25, 38, 39, 24, 23, 8, 5, 27, 45, 4, 43, 44, 41, 40]\n",
            "Subset 11: [0, 26, 36, 10, 1, 7, 11, 2, 28, 35, 16, 12, 21, 3, 9, 22, 6, 19, 13, 31, 32, 20, 29, 18, 17, 30, 34, 15, 14, 37, 33, 25, 38, 39, 24, 23, 8, 5, 27, 45, 4, 43, 44, 41, 40]\n",
            "Subset 12: [0, 26, 36, 10, 1, 7, 11, 2, 28, 35, 16, 12, 21, 3, 9, 22, 6, 19, 13, 31, 32, 20, 29, 18, 17, 30, 34, 15, 14, 37, 33, 25, 38, 39, 24, 23, 8, 5, 27, 45, 4, 43, 44, 41, 40]\n",
            "Subset 13: [0, 26, 36, 10, 1, 7, 11, 2, 28, 35, 16, 12, 21, 3, 9, 22, 6, 19, 13, 31, 32, 20, 29, 18, 17, 30, 34, 15, 14, 37, 33, 25, 38, 39, 24, 23, 8, 5, 27, 45, 4, 43, 44, 41, 40]\n",
            "Subset 14: [0, 26, 36, 10, 1, 7, 11, 2, 28, 35, 16, 12, 21, 3, 9, 22, 6, 19, 13, 31, 32, 20, 29, 18, 17, 30, 34, 15, 14, 37, 33, 25, 38, 39, 24, 23, 8, 5, 27, 45, 4, 43, 44, 41, 40]\n",
            "Subset 15: [0, 26, 36, 10, 1, 7, 11, 2, 28, 35, 16, 12, 21, 3, 9, 22, 6, 19, 13, 31, 32, 20, 29, 18, 17, 30, 34, 15, 14, 37, 33, 25, 38, 39, 24, 23, 8, 5, 27, 45, 4, 43, 44, 41, 40]\n"
          ]
        }
      ],
      "source": [
        "def find_max_corr_features(data, dependent_variable, num_subsets):\n",
        "    max_corr_subsets = []\n",
        "\n",
        "    # Correlation matrix\n",
        "    corr_matrix = data.corr().abs()\n",
        "\n",
        "    # Column indices of features sorted by correlation with dependent variable\n",
        "    sorted_features = np.argsort(corr_matrix[dependent_variable])[::-1]\n",
        "\n",
        "    for _ in range(num_subsets):\n",
        "        subset = []\n",
        "        for i in sorted_features:\n",
        "            if i not in subset:\n",
        "                subset.append(i)\n",
        "                if len(subset) == data.shape[1] - 1:\n",
        "                    break\n",
        "        max_corr_subsets.append(subset)\n",
        "\n",
        "    return max_corr_subsets\n",
        "\n",
        "\n",
        "dependent_variable = 'overall'\n",
        "num_subsets = 15\n",
        "\n",
        "max_corr_subsets = find_max_corr_features(New_players_21, dependent_variable, num_subsets)\n",
        "\n",
        "for i, subset in enumerate(max_corr_subsets):\n",
        "    print(f\"Subset {i + 1}: {subset}\")"
      ]
    },
    {
      "cell_type": "code",
      "execution_count": 13,
      "metadata": {
        "colab": {
          "base_uri": "https://localhost:8080/"
        },
        "id": "1xB6k7lZnyVe",
        "outputId": "1cefb18d-31ec-4ca3-efac-8ee9dea55b38"
      },
      "outputs": [
        {
          "output_type": "execute_result",
          "data": {
            "text/plain": [
              "Index(['overall', 'potential', 'wage_eur', 'age', 'international_reputation',\n",
              "       'release_clause_eur', 'shooting', 'passing', 'dribbling', 'physic',\n",
              "       'attacking_crossing', 'attacking_short_passing', 'skill_curve',\n",
              "       'skill_long_passing', 'skill_ball_control', 'movement_reactions',\n",
              "       'power_shot_power', 'power_long_shots', 'mentality_aggression',\n",
              "       'mentality_vision', 'mentality_composure'],\n",
              "      dtype='object')"
            ]
          },
          "metadata": {},
          "execution_count": 13
        }
      ],
      "source": [
        "df = pd.DataFrame(New_players_21)\n",
        "correlation = df.corr()['overall']\n",
        "threshold = 0.4  # Adjust the threshold as needed\n",
        "\n",
        "# Filter out columns with correlation below the threshold\n",
        "low_corr_features = correlation[abs(correlation) < threshold].index\n",
        "\n",
        "# Drop the low correlation features from the DataFrame\n",
        "df_filtered = df.drop(low_corr_features, axis=1)\n",
        "\n",
        "# Display the resulting DataFrame\n",
        "df_filtered.columns"
      ]
    },
    {
      "cell_type": "code",
      "execution_count": 15,
      "metadata": {
        "id": "7EXpr6okmiFw"
      },
      "outputs": [],
      "source": [
        "selected_columns = ['overall', 'potential', 'wage_eur', 'age', 'international_reputation',\n",
        "       'release_clause_eur', 'shooting', 'passing', 'dribbling', 'physic',\n",
        "       'attacking_crossing', 'attacking_short_passing', 'skill_curve',\n",
        "       'skill_long_passing', 'skill_ball_control', 'movement_reactions',\n",
        "       'power_shot_power', 'power_long_shots', 'mentality_aggression',\n",
        "       'mentality_vision', 'mentality_composure']\n",
        "\n",
        "X = df_filtered.drop(columns='overall')\n",
        "y = df_filtered['overall']\n",
        "\n",
        "#Split into training and testing sets\n",
        "X_train, X_test, y_train, y_test = train_test_split(X, y, test_size=0.2, random_state=42)"
      ]
    },
    {
      "cell_type": "code",
      "execution_count": 16,
      "metadata": {
        "id": "nobh2h2Pm8-C"
      },
      "outputs": [],
      "source": [
        "#Scaling\n",
        "scaler = StandardScaler()\n",
        "X = scaler.fit_transform(X)"
      ]
    },
    {
      "cell_type": "markdown",
      "metadata": {
        "id": "IWm_uSZfdsS8"
      },
      "source": [
        "Training suitable machine learning models with cross-validation"
      ]
    },
    {
      "cell_type": "markdown",
      "metadata": {
        "id": "BtUTEY6Gsgr0"
      },
      "source": [
        "#The Random forest Model"
      ]
    },
    {
      "cell_type": "code",
      "execution_count": 17,
      "metadata": {
        "colab": {
          "base_uri": "https://localhost:8080/"
        },
        "id": "fLlCpIe2mpDc",
        "outputId": "1580a025-a081-4f5e-d3c7-334e7c52c0aa"
      },
      "outputs": [
        {
          "output_type": "stream",
          "name": "stdout",
          "text": [
            "Random Forest Model CV Mean Accuracy Score: 0.9850973023720616\n"
          ]
        }
      ],
      "source": [
        "# Initialize the model\n",
        "rf_model = RandomForestRegressor(n_estimators=100, random_state=42)\n",
        "\n",
        "# Perform cross-validation and print the mean accuracy score\n",
        "cv_scores = cross_val_score(rf_model, X_train, y_train, cv=5)\n",
        "mean_cv_scores_rf=np.mean(cv_scores)\n",
        "print(f\"Random Forest Model CV Mean Accuracy Score: {mean_cv_scores_rf}\")"
      ]
    },
    {
      "cell_type": "code",
      "execution_count": 18,
      "metadata": {
        "colab": {
          "base_uri": "https://localhost:8080/"
        },
        "id": "J1c07vEJw3Q-",
        "outputId": "1235998b-1798-4aa1-b7bf-b191a6e87f7d"
      },
      "outputs": [
        {
          "output_type": "stream",
          "name": "stdout",
          "text": [
            "RandomForestRegressor(random_state=42)\n",
            "MAE: 0.573972286374134\n",
            "RMSE: 0.8588298415866417\n"
          ]
        }
      ],
      "source": [
        "#Make the prediction\n",
        "y_pred = cross_val_predict(rf_model, X_train, y_train, cv=5)\n",
        "print(rf_model)\n",
        "#Measure the model's performance using the Mean absolute error and the Root mean squared error\n",
        "mae = mean_absolute_error(y_train, y_pred)\n",
        "rmse = np.sqrt(mean_squared_error(y_train, y_pred))\n",
        "\n",
        "print(f'MAE: {mae}')\n",
        "print(f'RMSE: {rmse}')"
      ]
    },
    {
      "cell_type": "markdown",
      "metadata": {
        "id": "e8zqbSPksjKp"
      },
      "source": [
        "#The Gradient Boosting Model"
      ]
    },
    {
      "cell_type": "code",
      "execution_count": 19,
      "metadata": {
        "colab": {
          "base_uri": "https://localhost:8080/"
        },
        "id": "dZRpH_s4mt2u",
        "outputId": "b58f1b7a-5679-4b10-c4f9-37856296b70c"
      },
      "outputs": [
        {
          "output_type": "stream",
          "name": "stdout",
          "text": [
            "Gradient Boosting Model CV Mean Accuracy Score: 0.975700110797652\n"
          ]
        }
      ],
      "source": [
        "# Initialize the model\n",
        "gb_model = GradientBoostingRegressor(n_estimators=100, random_state=42)\n",
        "\n",
        "# Perform cross-validation and print the mean accuracy score\n",
        "cv_scores = cross_val_score(gb_model, X_train, y_train, cv=5)\n",
        "mean_cv_scores_gr = np.mean(cv_scores)\n",
        "print(f\"Gradient Boosting Model CV Mean Accuracy Score: {mean_cv_scores_gr}\")\n"
      ]
    },
    {
      "cell_type": "code",
      "execution_count": 21,
      "metadata": {
        "colab": {
          "base_uri": "https://localhost:8080/"
        },
        "id": "HvWdxRBzxlrz",
        "outputId": "4dd575d4-5c3b-4b1f-c155-5c302c1175e4"
      },
      "outputs": [
        {
          "output_type": "stream",
          "name": "stdout",
          "text": [
            "[51.02844576 54.56126107 67.19545862 ... 70.97012699 77.79867232\n",
            " 59.02925232]\n",
            "MAE: 0.8177678965718205\n",
            "RMSE: 1.0965543791591972\n"
          ]
        }
      ],
      "source": [
        "#Make the prediction\n",
        "y_pred = cross_val_predict(gb_model, X_train, y_train, cv=5)\n",
        "print(y_pred)\n",
        "#Measure the model's performance using the Mean absolute error and the Root mean squared error\n",
        "mae = mean_absolute_error(y_train, y_pred)\n",
        "rmse = np.sqrt(mean_squared_error(y_train, y_pred))\n",
        "\n",
        "print(f'MAE: {mae}')\n",
        "print(f'RMSE: {rmse}')"
      ]
    },
    {
      "cell_type": "markdown",
      "metadata": {
        "id": "Z5jBSGC5vrRp"
      },
      "source": [
        "#The Support Vector Machine Model"
      ]
    },
    {
      "cell_type": "code",
      "execution_count": null,
      "metadata": {
        "id": "zbEREDTlmv65"
      },
      "outputs": [],
      "source": [
        "#Support vector machine model\n",
        "from sklearn.svm import SVR\n",
        "from sklearn.model_selection import cross_val_score\n",
        "\n",
        "# Initialize the model\n",
        "svm_model = SVR(kernel='linear', C=1.0, gamma='scale')\n",
        "\n",
        "# Perform cross-validation and print the mean accuracy score\n",
        "cv_scores = cross_val_score(svm_model, X_train, y_train, cv=5)\n",
        "mean_cv_scores_svm=np.mean(cv_scores)\n",
        "print(f\"Support Vector Machine Model CV Mean Accuracy Score: {mean_cv_scores_svm}\")\n"
      ]
    },
    {
      "cell_type": "code",
      "execution_count": null,
      "metadata": {
        "colab": {
          "base_uri": "https://localhost:8080/"
        },
        "id": "55S8HPN0ySVp",
        "outputId": "7a0557aa-9989-4066-ac98-44b878b5ff65"
      },
      "outputs": [
        {
          "name": "stderr",
          "output_type": "stream",
          "text": [
            "/usr/local/lib/python3.10/dist-packages/sklearn/model_selection/_split.py:700: UserWarning: The least populated class in y has only 1 members, which is less than n_splits=5.\n",
            "  warnings.warn(\n"
          ]
        },
        {
          "name": "stdout",
          "output_type": "stream",
          "text": [
            "[89. 87. 90. ... 47. 51. 50.]\n",
            "MAE: 1.3131862331081081\n",
            "RMSE: 1.8623305065268465\n"
          ]
        }
      ],
      "source": [
        "#Make the prediction\n",
        "y_pred = cross_val_predict(svm_model, X_train, y_train, cv=5)\n",
        "print(y_pred)\n",
        "\n",
        "#Measure the model's performance using the Mean absolute error and the Root mean squared error\n",
        "mae = mean_absolute_error(y, y_pred)\n",
        "rmse = np.sqrt(mean_squared_error(y, y_pred))\n",
        "\n",
        "print(f'MAE: {mae}')\n",
        "print(f'RMSE: {rmse}')"
      ]
    },
    {
      "cell_type": "markdown",
      "metadata": {
        "id": "AL0HwN1IMHN8"
      },
      "source": [
        "# The XGBoost model"
      ]
    },
    {
      "cell_type": "code",
      "execution_count": 22,
      "metadata": {
        "colab": {
          "base_uri": "https://localhost:8080/"
        },
        "id": "c0P-2XMAMF62",
        "outputId": "6440fb2e-f1f7-4f0a-81ee-37cd65481c70"
      },
      "outputs": [
        {
          "output_type": "stream",
          "name": "stdout",
          "text": [
            "Average 5-Fold Cross-Validation Score: -0.7806\n"
          ]
        }
      ],
      "source": [
        "import xgboost as xgb\n",
        "\n",
        "xgb_model = xgb.XGBRegressor(objective ='reg:squarederror', n_estimators=100)\n",
        "\n",
        "xgb_scores = cross_val_score(xgb_model, X_train, y_train, cv=5, scoring='neg_mean_squared_error')\n",
        "\n",
        "average_score = np.mean(xgb_scores)\n",
        "\n",
        "print(\"Average 5-Fold Cross-Validation Score: {:.4f}\".format(average_score))\n",
        "\n"
      ]
    },
    {
      "cell_type": "code",
      "execution_count": 23,
      "metadata": {
        "colab": {
          "base_uri": "https://localhost:8080/"
        },
        "id": "cOxJnwC_Njcm",
        "outputId": "32aca7fb-c113-4ab7-d990-eb4caadc4d17"
      },
      "outputs": [
        {
          "output_type": "stream",
          "name": "stdout",
          "text": [
            "[50.590855 54.76696  67.04098  ... 69.8503   77.340164 59.001217]\n",
            "MAE: 0.6370107194528608\n",
            "RMSE: 0.8835107494665911\n"
          ]
        }
      ],
      "source": [
        "xgb_predictions = cross_val_predict(xgb_model, X_train, y_train, cv=5)\n",
        "print(xgb_predictions)\n",
        "\n",
        "#Measure the model's performance using the Mean absolute error and the Root mean squared error\n",
        "mae = mean_absolute_error(y_train, xgb_predictions)\n",
        "rmse = np.sqrt(mean_squared_error(y_train, xgb_predictions))\n",
        "\n",
        "print(f'MAE: {mae}')\n",
        "print(f'RMSE: {rmse}')"
      ]
    },
    {
      "cell_type": "markdown",
      "metadata": {
        "id": "a1XR-TmjsMIe"
      },
      "source": [
        "#Custom ensemble model: The stacking regressor"
      ]
    },
    {
      "cell_type": "markdown",
      "metadata": {
        "id": "CcofZteswmWp"
      },
      "source": [
        "Creating the ensemble model and make predictions on the test set"
      ]
    },
    {
      "cell_type": "code",
      "execution_count": 24,
      "metadata": {
        "colab": {
          "base_uri": "https://localhost:8080/"
        },
        "id": "OgxiILjWwpnL",
        "outputId": "d9fa63f6-947f-4f5a-85c2-04a92c25e975"
      },
      "outputs": [
        {
          "output_type": "execute_result",
          "data": {
            "text/plain": [
              "array([60.85379918, 62.9291503 , 57.75548133, ..., 72.64954405,\n",
              "       63.11990221, 61.43585857])"
            ]
          },
          "metadata": {},
          "execution_count": 24
        }
      ],
      "source": [
        "xgb_model = xgb.XGBRegressor(objective ='reg:squarederror', n_estimators=100)\n",
        "rf_model = RandomForestRegressor(n_estimators=100, random_state=42)\n",
        "gb_model = GradientBoostingRegressor(n_estimators=100, random_state=42)\n",
        "\n",
        "\n",
        "# Train the base models\n",
        "xgb_model.fit(X_train, y_train)\n",
        "rf_model.fit(X_train, y_train)\n",
        "gb_model.fit(X_train, y_train)\n",
        "\n",
        "\n",
        "# Make predictions on the testing set\n",
        "xgb_preds = xgb_model.predict(X_test)\n",
        "rf_preds = rf_model.predict(X_test)\n",
        "gb_preds = gb_model.predict(X_test)\n",
        "\n",
        "# Combine the predictions (e.g., by averaging them)\n",
        "ensemble_preds = np.mean([xgb_preds, rf_preds,gb_preds], axis=0)\n",
        "ensemble_preds"
      ]
    },
    {
      "cell_type": "markdown",
      "metadata": {
        "id": "yATGH6ybxb8a"
      },
      "source": [
        "Calculate our ensemble model's accuracy"
      ]
    },
    {
      "cell_type": "code",
      "execution_count": null,
      "metadata": {
        "colab": {
          "base_uri": "https://localhost:8080/"
        },
        "id": "HvQvj1rnws98",
        "outputId": "eaf02191-8539-4742-e3fe-87083194b609"
      },
      "outputs": [
        {
          "output_type": "stream",
          "name": "stdout",
          "text": [
            "MAE: 0.5826119075994841\n",
            "RMSE: 0.8179154854478812\n"
          ]
        }
      ],
      "source": [
        "# Calculate the MAE and RMSE\n",
        "\n",
        "mae = mean_absolute_error(y_test,  ensemble_preds)\n",
        "rmse = np.sqrt(mean_squared_error(y_test, ensemble_preds))\n",
        "\n",
        "print(f'MAE: {mae}')\n",
        "print(f'RMSE: {rmse}')"
      ]
    },
    {
      "cell_type": "markdown",
      "metadata": {
        "id": "GyJnwLeR5XLt"
      },
      "source": [
        "#Optimize the ensemble model"
      ]
    },
    {
      "cell_type": "markdown",
      "metadata": {
        "id": "tcPC64MG5g4G"
      },
      "source": [
        "Determine the ensemble model's architecture"
      ]
    },
    {
      "cell_type": "code",
      "execution_count": 25,
      "metadata": {
        "id": "yglp5CMvpRZI",
        "colab": {
          "base_uri": "https://localhost:8080/"
        },
        "outputId": "71eb1417-46d1-4fd1-bcc1-d7c0a40bc89b"
      },
      "outputs": [
        {
          "output_type": "execute_result",
          "data": {
            "text/plain": [
              "array([60.986153, 62.93745 , 57.848763, ..., 73.325714, 63.100933,\n",
              "       61.51793 ], dtype=float32)"
            ]
          },
          "metadata": {},
          "execution_count": 25
        }
      ],
      "source": [
        "from sklearn.ensemble import StackingRegressor\n",
        "from xgboost import XGBRegressor\n",
        "# Create the stacking regressor\n",
        "stacking_regressor = StackingRegressor(\n",
        "    estimators=[\n",
        "        ('xgb', xgb_model),\n",
        "        ('rf', rf_model),\n",
        "        ('gb', gb_model)\n",
        "    ],\n",
        "    final_estimator=XGBRegressor(n_estimators=100, random_state=42),\n",
        "    cv=5\n",
        ")\n",
        "\n",
        "# Fit the stacking regressor to the training set\n",
        "stacking_regressor.fit(X_train, y_train)\n",
        "\n",
        "# Predict the target variable for the test set\n",
        "stacking_preds = stacking_regressor.predict(X_test)\n",
        "stacking_preds"
      ]
    },
    {
      "cell_type": "markdown",
      "source": [
        "# Perform the random grid search\n"
      ],
      "metadata": {
        "id": "tJ3Z6rJFtzNH"
      }
    },
    {
      "cell_type": "code",
      "source": [
        "from sklearn.model_selection import RandomizedSearchCV\n",
        "param_grid = {\n",
        "    'xgb__n_estimators': [100, 150, 200],\n",
        "    'xgb__learning_rate': [0.1, 0.05, 0.01],\n",
        "    'xgb__max_depth': [3, 5, 7],\n",
        "\n",
        "    'rf__n_estimators': [100, 150, 200],\n",
        "    'rf__max_features': ['auto', 'sqrt', 'log2'],\n",
        "    'rf__max_depth': [None, 10, 20],\n",
        "\n",
        "    'gb__n_estimators': [100, 150, 200],\n",
        "    'gb__learning_rate': [0.1, 0.05, 0.01],\n",
        "    'gb__max_depth': [3, 5, 7]\n",
        "}\n",
        "\n",
        "# Perform the random grid search\n",
        "n_iter = 50\n",
        "random_search = RandomizedSearchCV(\n",
        "    estimator=stacking_regressor,       # Replace with your model\n",
        "    param_distributions=param_grid,\n",
        "    n_iter=n_iter,\n",
        "    scoring='neg_mean_squared_error',  # Choose an appropriate scoring metric\n",
        "    cv=5,  # Number of cross-validation folds\n",
        "    n_jobs=-1,  # Use all available CPU cores for parallel processing\n",
        "    random_state=42  # Set a random seed for reproducibility\n",
        ")"
      ],
      "metadata": {
        "id": "KLE1G7FcDG0q"
      },
      "execution_count": 29,
      "outputs": []
    },
    {
      "cell_type": "code",
      "execution_count": 30,
      "metadata": {
        "id": "tjdLL6tfvqDe",
        "colab": {
          "base_uri": "https://localhost:8080/",
          "height": 414
        },
        "outputId": "e5f72df3-2679-4201-cf51-934bfd058251"
      },
      "outputs": [
        {
          "output_type": "stream",
          "name": "stderr",
          "text": [
            "/usr/local/lib/python3.10/dist-packages/sklearn/ensemble/_forest.py:413: FutureWarning: `max_features='auto'` has been deprecated in 1.1 and will be removed in 1.3. To keep the past behaviour, explicitly set `max_features=1.0` or remove this parameter as it is also the default value for RandomForestRegressors and ExtraTreesRegressors.\n",
            "  warn(\n",
            "/usr/local/lib/python3.10/dist-packages/sklearn/ensemble/_forest.py:413: FutureWarning: `max_features='auto'` has been deprecated in 1.1 and will be removed in 1.3. To keep the past behaviour, explicitly set `max_features=1.0` or remove this parameter as it is also the default value for RandomForestRegressors and ExtraTreesRegressors.\n",
            "  warn(\n",
            "/usr/local/lib/python3.10/dist-packages/sklearn/ensemble/_forest.py:413: FutureWarning: `max_features='auto'` has been deprecated in 1.1 and will be removed in 1.3. To keep the past behaviour, explicitly set `max_features=1.0` or remove this parameter as it is also the default value for RandomForestRegressors and ExtraTreesRegressors.\n",
            "  warn(\n",
            "/usr/local/lib/python3.10/dist-packages/sklearn/ensemble/_forest.py:413: FutureWarning: `max_features='auto'` has been deprecated in 1.1 and will be removed in 1.3. To keep the past behaviour, explicitly set `max_features=1.0` or remove this parameter as it is also the default value for RandomForestRegressors and ExtraTreesRegressors.\n",
            "  warn(\n",
            "/usr/local/lib/python3.10/dist-packages/sklearn/ensemble/_forest.py:413: FutureWarning: `max_features='auto'` has been deprecated in 1.1 and will be removed in 1.3. To keep the past behaviour, explicitly set `max_features=1.0` or remove this parameter as it is also the default value for RandomForestRegressors and ExtraTreesRegressors.\n",
            "  warn(\n",
            "/usr/local/lib/python3.10/dist-packages/sklearn/ensemble/_forest.py:413: FutureWarning: `max_features='auto'` has been deprecated in 1.1 and will be removed in 1.3. To keep the past behaviour, explicitly set `max_features=1.0` or remove this parameter as it is also the default value for RandomForestRegressors and ExtraTreesRegressors.\n",
            "  warn(\n"
          ]
        },
        {
          "output_type": "execute_result",
          "data": {
            "text/plain": [
              "RandomizedSearchCV(cv=5,\n",
              "                   estimator=StackingRegressor(cv=5,\n",
              "                                               estimators=[('xgb',\n",
              "                                                            XGBRegressor(base_score=None,\n",
              "                                                                         booster=None,\n",
              "                                                                         callbacks=None,\n",
              "                                                                         colsample_bylevel=None,\n",
              "                                                                         colsample_bynode=None,\n",
              "                                                                         colsample_bytree=None,\n",
              "                                                                         device=None,\n",
              "                                                                         early_stopping_rounds=None,\n",
              "                                                                         enable_categorical=False,\n",
              "                                                                         eval_metric=None,\n",
              "                                                                         feature_types=None,\n",
              "                                                                         gamma=None,\n",
              "                                                                         grow_policy=None,\n",
              "                                                                         importance_type=None,\n",
              "                                                                         i...\n",
              "                   param_distributions={'gb__learning_rate': [0.1, 0.05, 0.01],\n",
              "                                        'gb__max_depth': [3, 5, 7],\n",
              "                                        'gb__n_estimators': [100, 150, 200],\n",
              "                                        'rf__max_depth': [None, 10, 20],\n",
              "                                        'rf__max_features': ['auto', 'sqrt',\n",
              "                                                             'log2'],\n",
              "                                        'rf__n_estimators': [100, 150, 200],\n",
              "                                        'xgb__learning_rate': [0.1, 0.05, 0.01],\n",
              "                                        'xgb__max_depth': [3, 5, 7],\n",
              "                                        'xgb__n_estimators': [100, 150, 200]},\n",
              "                   random_state=42, scoring='neg_mean_squared_error')"
            ],
            "text/html": [
              "<style>#sk-container-id-1 {color: black;background-color: white;}#sk-container-id-1 pre{padding: 0;}#sk-container-id-1 div.sk-toggleable {background-color: white;}#sk-container-id-1 label.sk-toggleable__label {cursor: pointer;display: block;width: 100%;margin-bottom: 0;padding: 0.3em;box-sizing: border-box;text-align: center;}#sk-container-id-1 label.sk-toggleable__label-arrow:before {content: \"▸\";float: left;margin-right: 0.25em;color: #696969;}#sk-container-id-1 label.sk-toggleable__label-arrow:hover:before {color: black;}#sk-container-id-1 div.sk-estimator:hover label.sk-toggleable__label-arrow:before {color: black;}#sk-container-id-1 div.sk-toggleable__content {max-height: 0;max-width: 0;overflow: hidden;text-align: left;background-color: #f0f8ff;}#sk-container-id-1 div.sk-toggleable__content pre {margin: 0.2em;color: black;border-radius: 0.25em;background-color: #f0f8ff;}#sk-container-id-1 input.sk-toggleable__control:checked~div.sk-toggleable__content {max-height: 200px;max-width: 100%;overflow: auto;}#sk-container-id-1 input.sk-toggleable__control:checked~label.sk-toggleable__label-arrow:before {content: \"▾\";}#sk-container-id-1 div.sk-estimator input.sk-toggleable__control:checked~label.sk-toggleable__label {background-color: #d4ebff;}#sk-container-id-1 div.sk-label input.sk-toggleable__control:checked~label.sk-toggleable__label {background-color: #d4ebff;}#sk-container-id-1 input.sk-hidden--visually {border: 0;clip: rect(1px 1px 1px 1px);clip: rect(1px, 1px, 1px, 1px);height: 1px;margin: -1px;overflow: hidden;padding: 0;position: absolute;width: 1px;}#sk-container-id-1 div.sk-estimator {font-family: monospace;background-color: #f0f8ff;border: 1px dotted black;border-radius: 0.25em;box-sizing: border-box;margin-bottom: 0.5em;}#sk-container-id-1 div.sk-estimator:hover {background-color: #d4ebff;}#sk-container-id-1 div.sk-parallel-item::after {content: \"\";width: 100%;border-bottom: 1px solid gray;flex-grow: 1;}#sk-container-id-1 div.sk-label:hover label.sk-toggleable__label {background-color: #d4ebff;}#sk-container-id-1 div.sk-serial::before {content: \"\";position: absolute;border-left: 1px solid gray;box-sizing: border-box;top: 0;bottom: 0;left: 50%;z-index: 0;}#sk-container-id-1 div.sk-serial {display: flex;flex-direction: column;align-items: center;background-color: white;padding-right: 0.2em;padding-left: 0.2em;position: relative;}#sk-container-id-1 div.sk-item {position: relative;z-index: 1;}#sk-container-id-1 div.sk-parallel {display: flex;align-items: stretch;justify-content: center;background-color: white;position: relative;}#sk-container-id-1 div.sk-item::before, #sk-container-id-1 div.sk-parallel-item::before {content: \"\";position: absolute;border-left: 1px solid gray;box-sizing: border-box;top: 0;bottom: 0;left: 50%;z-index: -1;}#sk-container-id-1 div.sk-parallel-item {display: flex;flex-direction: column;z-index: 1;position: relative;background-color: white;}#sk-container-id-1 div.sk-parallel-item:first-child::after {align-self: flex-end;width: 50%;}#sk-container-id-1 div.sk-parallel-item:last-child::after {align-self: flex-start;width: 50%;}#sk-container-id-1 div.sk-parallel-item:only-child::after {width: 0;}#sk-container-id-1 div.sk-dashed-wrapped {border: 1px dashed gray;margin: 0 0.4em 0.5em 0.4em;box-sizing: border-box;padding-bottom: 0.4em;background-color: white;}#sk-container-id-1 div.sk-label label {font-family: monospace;font-weight: bold;display: inline-block;line-height: 1.2em;}#sk-container-id-1 div.sk-label-container {text-align: center;}#sk-container-id-1 div.sk-container {/* jupyter's `normalize.less` sets `[hidden] { display: none; }` but bootstrap.min.css set `[hidden] { display: none !important; }` so we also need the `!important` here to be able to override the default hidden behavior on the sphinx rendered scikit-learn.org. See: https://github.com/scikit-learn/scikit-learn/issues/21755 */display: inline-block !important;position: relative;}#sk-container-id-1 div.sk-text-repr-fallback {display: none;}</style><div id=\"sk-container-id-1\" class=\"sk-top-container\"><div class=\"sk-text-repr-fallback\"><pre>RandomizedSearchCV(cv=5,\n",
              "                   estimator=StackingRegressor(cv=5,\n",
              "                                               estimators=[(&#x27;xgb&#x27;,\n",
              "                                                            XGBRegressor(base_score=None,\n",
              "                                                                         booster=None,\n",
              "                                                                         callbacks=None,\n",
              "                                                                         colsample_bylevel=None,\n",
              "                                                                         colsample_bynode=None,\n",
              "                                                                         colsample_bytree=None,\n",
              "                                                                         device=None,\n",
              "                                                                         early_stopping_rounds=None,\n",
              "                                                                         enable_categorical=False,\n",
              "                                                                         eval_metric=None,\n",
              "                                                                         feature_types=None,\n",
              "                                                                         gamma=None,\n",
              "                                                                         grow_policy=None,\n",
              "                                                                         importance_type=None,\n",
              "                                                                         i...\n",
              "                   param_distributions={&#x27;gb__learning_rate&#x27;: [0.1, 0.05, 0.01],\n",
              "                                        &#x27;gb__max_depth&#x27;: [3, 5, 7],\n",
              "                                        &#x27;gb__n_estimators&#x27;: [100, 150, 200],\n",
              "                                        &#x27;rf__max_depth&#x27;: [None, 10, 20],\n",
              "                                        &#x27;rf__max_features&#x27;: [&#x27;auto&#x27;, &#x27;sqrt&#x27;,\n",
              "                                                             &#x27;log2&#x27;],\n",
              "                                        &#x27;rf__n_estimators&#x27;: [100, 150, 200],\n",
              "                                        &#x27;xgb__learning_rate&#x27;: [0.1, 0.05, 0.01],\n",
              "                                        &#x27;xgb__max_depth&#x27;: [3, 5, 7],\n",
              "                                        &#x27;xgb__n_estimators&#x27;: [100, 150, 200]},\n",
              "                   random_state=42, scoring=&#x27;neg_mean_squared_error&#x27;)</pre><b>In a Jupyter environment, please rerun this cell to show the HTML representation or trust the notebook. <br />On GitHub, the HTML representation is unable to render, please try loading this page with nbviewer.org.</b></div><div class=\"sk-container\" hidden><div class=\"sk-item sk-dashed-wrapped\"><div class=\"sk-label-container\"><div class=\"sk-label sk-toggleable\"><input class=\"sk-toggleable__control sk-hidden--visually\" id=\"sk-estimator-id-1\" type=\"checkbox\" ><label for=\"sk-estimator-id-1\" class=\"sk-toggleable__label sk-toggleable__label-arrow\">RandomizedSearchCV</label><div class=\"sk-toggleable__content\"><pre>RandomizedSearchCV(cv=5,\n",
              "                   estimator=StackingRegressor(cv=5,\n",
              "                                               estimators=[(&#x27;xgb&#x27;,\n",
              "                                                            XGBRegressor(base_score=None,\n",
              "                                                                         booster=None,\n",
              "                                                                         callbacks=None,\n",
              "                                                                         colsample_bylevel=None,\n",
              "                                                                         colsample_bynode=None,\n",
              "                                                                         colsample_bytree=None,\n",
              "                                                                         device=None,\n",
              "                                                                         early_stopping_rounds=None,\n",
              "                                                                         enable_categorical=False,\n",
              "                                                                         eval_metric=None,\n",
              "                                                                         feature_types=None,\n",
              "                                                                         gamma=None,\n",
              "                                                                         grow_policy=None,\n",
              "                                                                         importance_type=None,\n",
              "                                                                         i...\n",
              "                   param_distributions={&#x27;gb__learning_rate&#x27;: [0.1, 0.05, 0.01],\n",
              "                                        &#x27;gb__max_depth&#x27;: [3, 5, 7],\n",
              "                                        &#x27;gb__n_estimators&#x27;: [100, 150, 200],\n",
              "                                        &#x27;rf__max_depth&#x27;: [None, 10, 20],\n",
              "                                        &#x27;rf__max_features&#x27;: [&#x27;auto&#x27;, &#x27;sqrt&#x27;,\n",
              "                                                             &#x27;log2&#x27;],\n",
              "                                        &#x27;rf__n_estimators&#x27;: [100, 150, 200],\n",
              "                                        &#x27;xgb__learning_rate&#x27;: [0.1, 0.05, 0.01],\n",
              "                                        &#x27;xgb__max_depth&#x27;: [3, 5, 7],\n",
              "                                        &#x27;xgb__n_estimators&#x27;: [100, 150, 200]},\n",
              "                   random_state=42, scoring=&#x27;neg_mean_squared_error&#x27;)</pre></div></div></div><div class=\"sk-parallel\"><div class=\"sk-parallel-item\"><div class=\"sk-item\"><div class=\"sk-label-container\"><div class=\"sk-label sk-toggleable\"><input class=\"sk-toggleable__control sk-hidden--visually\" id=\"sk-estimator-id-2\" type=\"checkbox\" ><label for=\"sk-estimator-id-2\" class=\"sk-toggleable__label sk-toggleable__label-arrow\">estimator: StackingRegressor</label><div class=\"sk-toggleable__content\"><pre>StackingRegressor(cv=5,\n",
              "                  estimators=[(&#x27;xgb&#x27;,\n",
              "                               XGBRegressor(base_score=None, booster=None,\n",
              "                                            callbacks=None,\n",
              "                                            colsample_bylevel=None,\n",
              "                                            colsample_bynode=None,\n",
              "                                            colsample_bytree=None, device=None,\n",
              "                                            early_stopping_rounds=None,\n",
              "                                            enable_categorical=False,\n",
              "                                            eval_metric=None,\n",
              "                                            feature_types=None, gamma=None,\n",
              "                                            grow_policy=None,\n",
              "                                            importance_type=None,\n",
              "                                            interaction_constraints=None,\n",
              "                                            learni...\n",
              "                                               feature_types=None, gamma=None,\n",
              "                                               grow_policy=None,\n",
              "                                               importance_type=None,\n",
              "                                               interaction_constraints=None,\n",
              "                                               learning_rate=None, max_bin=None,\n",
              "                                               max_cat_threshold=None,\n",
              "                                               max_cat_to_onehot=None,\n",
              "                                               max_delta_step=None,\n",
              "                                               max_depth=None, max_leaves=None,\n",
              "                                               min_child_weight=None,\n",
              "                                               missing=nan,\n",
              "                                               monotone_constraints=None,\n",
              "                                               multi_strategy=None,\n",
              "                                               n_estimators=100, n_jobs=None,\n",
              "                                               num_parallel_tree=None,\n",
              "                                               random_state=42, ...))</pre></div></div></div><div class=\"sk-serial\"><div class=\"sk-item\"><div class=\"sk-serial\"><div class=\"sk-item\"><div class=\"sk-parallel\"><div class=\"sk-parallel-item\"><div class=\"sk-item\"><div class=\"sk-label-container\"><div class=\"sk-label sk-toggleable\"><label>xgb</label></div></div><div class=\"sk-serial\"><div class=\"sk-item\"><div class=\"sk-estimator sk-toggleable\"><input class=\"sk-toggleable__control sk-hidden--visually\" id=\"sk-estimator-id-3\" type=\"checkbox\" ><label for=\"sk-estimator-id-3\" class=\"sk-toggleable__label sk-toggleable__label-arrow\">XGBRegressor</label><div class=\"sk-toggleable__content\"><pre>XGBRegressor(base_score=None, booster=None, callbacks=None,\n",
              "             colsample_bylevel=None, colsample_bynode=None,\n",
              "             colsample_bytree=None, device=None, early_stopping_rounds=None,\n",
              "             enable_categorical=False, eval_metric=None, feature_types=None,\n",
              "             gamma=None, grow_policy=None, importance_type=None,\n",
              "             interaction_constraints=None, learning_rate=None, max_bin=None,\n",
              "             max_cat_threshold=None, max_cat_to_onehot=None,\n",
              "             max_delta_step=None, max_depth=None, max_leaves=None,\n",
              "             min_child_weight=None, missing=nan, monotone_constraints=None,\n",
              "             multi_strategy=None, n_estimators=100, n_jobs=None,\n",
              "             num_parallel_tree=None, random_state=None, ...)</pre></div></div></div></div></div></div><div class=\"sk-parallel-item\"><div class=\"sk-item\"><div class=\"sk-label-container\"><div class=\"sk-label sk-toggleable\"><label>rf</label></div></div><div class=\"sk-serial\"><div class=\"sk-item\"><div class=\"sk-estimator sk-toggleable\"><input class=\"sk-toggleable__control sk-hidden--visually\" id=\"sk-estimator-id-4\" type=\"checkbox\" ><label for=\"sk-estimator-id-4\" class=\"sk-toggleable__label sk-toggleable__label-arrow\">RandomForestRegressor</label><div class=\"sk-toggleable__content\"><pre>RandomForestRegressor(random_state=42)</pre></div></div></div></div></div></div><div class=\"sk-parallel-item\"><div class=\"sk-item\"><div class=\"sk-label-container\"><div class=\"sk-label sk-toggleable\"><label>gb</label></div></div><div class=\"sk-serial\"><div class=\"sk-item\"><div class=\"sk-estimator sk-toggleable\"><input class=\"sk-toggleable__control sk-hidden--visually\" id=\"sk-estimator-id-5\" type=\"checkbox\" ><label for=\"sk-estimator-id-5\" class=\"sk-toggleable__label sk-toggleable__label-arrow\">GradientBoostingRegressor</label><div class=\"sk-toggleable__content\"><pre>GradientBoostingRegressor(random_state=42)</pre></div></div></div></div></div></div></div></div><div class=\"sk-item\"><div class=\"sk-parallel\"><div class=\"sk-parallel-item\"><div class=\"sk-item\"><div class=\"sk-label-container\"><div class=\"sk-label sk-toggleable\"><label>final_estimator</label></div></div><div class=\"sk-serial\"><div class=\"sk-item\"><div class=\"sk-estimator sk-toggleable\"><input class=\"sk-toggleable__control sk-hidden--visually\" id=\"sk-estimator-id-6\" type=\"checkbox\" ><label for=\"sk-estimator-id-6\" class=\"sk-toggleable__label sk-toggleable__label-arrow\">XGBRegressor</label><div class=\"sk-toggleable__content\"><pre>XGBRegressor(base_score=None, booster=None, callbacks=None,\n",
              "             colsample_bylevel=None, colsample_bynode=None,\n",
              "             colsample_bytree=None, device=None, early_stopping_rounds=None,\n",
              "             enable_categorical=False, eval_metric=None, feature_types=None,\n",
              "             gamma=None, grow_policy=None, importance_type=None,\n",
              "             interaction_constraints=None, learning_rate=None, max_bin=None,\n",
              "             max_cat_threshold=None, max_cat_to_onehot=None,\n",
              "             max_delta_step=None, max_depth=None, max_leaves=None,\n",
              "             min_child_weight=None, missing=nan, monotone_constraints=None,\n",
              "             multi_strategy=None, n_estimators=100, n_jobs=None,\n",
              "             num_parallel_tree=None, random_state=42, ...)</pre></div></div></div></div></div></div></div></div></div></div></div></div></div></div></div></div></div>"
            ]
          },
          "metadata": {},
          "execution_count": 30
        }
      ],
      "source": [
        "random_search.fit(X_train, y_train)"
      ]
    },
    {
      "cell_type": "code",
      "source": [
        "best_model = random_search.best_estimator_\n",
        "best_params =random_search.best_params_\n",
        "\n",
        "y_pred = best_model.predict(X_test)\n",
        "mse = mean_squared_error(y_test, y_pred)\n",
        "print(\"Mean Squared Error:\", mse)"
      ],
      "metadata": {
        "colab": {
          "base_uri": "https://localhost:8080/"
        },
        "id": "m_IrGBuu73Ee",
        "outputId": "6bf30984-d03a-4f3d-af3b-712dbeac7bd8"
      },
      "execution_count": 31,
      "outputs": [
        {
          "output_type": "stream",
          "name": "stdout",
          "text": [
            "Mean Squared Error: 0.6237859791984853\n"
          ]
        }
      ]
    },
    {
      "cell_type": "markdown",
      "metadata": {
        "id": "EVrukiih9tSC"
      },
      "source": [
        "#Test ensemble model on the Players_22 data"
      ]
    },
    {
      "cell_type": "markdown",
      "metadata": {
        "id": "3GTUf9tG-hZC"
      },
      "source": [
        "Load the trained ensemble model and test it's performance on the Players_22 data"
      ]
    },
    {
      "cell_type": "code",
      "execution_count": 32,
      "metadata": {
        "id": "Y893r4kU98lb"
      },
      "outputs": [],
      "source": [
        "# Test the model on players_22\n",
        "data= ['overall', 'potential', 'wage_eur', 'age', 'international_reputation',\n",
        "       'release_clause_eur', 'shooting', 'passing', 'dribbling', 'physic',\n",
        "       'attacking_crossing', 'attacking_short_passing', 'skill_curve',\n",
        "       'skill_long_passing', 'skill_ball_control', 'movement_reactions',\n",
        "       'power_shot_power', 'power_long_shots', 'mentality_aggression',\n",
        "       'mentality_vision', 'mentality_composure']\n",
        "\n",
        "players_22_Data= players_22[data]"
      ]
    },
    {
      "cell_type": "code",
      "execution_count": 33,
      "metadata": {
        "id": "_QKQbc_pinh5"
      },
      "outputs": [],
      "source": [
        "# Split dataset into categorical and numeric\n",
        "numeric_data = players_22_Data.select_dtypes(exclude=['object'])\n",
        "\n",
        "#imputing numeric\n",
        "imp=SimpleImputer()\n",
        "imputed_data=imp.fit_transform(numeric_data)\n",
        "df_numeric =pd.DataFrame(imputed_data, columns=numeric_data.columns)\n",
        "\n",
        "\n"
      ]
    },
    {
      "cell_type": "code",
      "execution_count": 34,
      "metadata": {
        "colab": {
          "base_uri": "https://localhost:8080/"
        },
        "id": "Xboo_0b3i_xT",
        "outputId": "1eb09b93-39d2-4a7b-f3a7-4d819baeab74"
      },
      "outputs": [
        {
          "output_type": "execute_result",
          "data": {
            "text/plain": [
              "array([64.51959 , 61.497246, 56.422565, ..., 63.354374, 67.23068 ,\n",
              "       67.727974], dtype=float32)"
            ]
          },
          "metadata": {},
          "execution_count": 34
        }
      ],
      "source": [
        "X =df_numeric.drop(columns='overall')\n",
        "y = df_numeric['overall']\n",
        "\n",
        "#Split into training and testing sets\n",
        "X_train, X_test, y_train, y_test = train_test_split(X, y, test_size=0.2, random_state=42)\n",
        "\n",
        "test_pred = best_model.predict(X_test)\n",
        "test_pred"
      ]
    },
    {
      "cell_type": "code",
      "execution_count": 35,
      "metadata": {
        "colab": {
          "base_uri": "https://localhost:8080/"
        },
        "id": "JD_veMbKHjKv",
        "outputId": "6422d0eb-8b46-415e-bef3-3a22d002c26a"
      },
      "outputs": [
        {
          "output_type": "stream",
          "name": "stdout",
          "text": [
            "Mean Squared Error: 3.655760300009603\n"
          ]
        }
      ],
      "source": [
        "mse = mean_squared_error(y_test ,test_pred )\n",
        "print(\"Mean Squared Error:\", mse)\n"
      ]
    },
    {
      "cell_type": "code",
      "source": [
        "import pickle\n",
        "# Use pickle to save the trained model\n",
        "with open('best_model.plk', 'wb') as f:\n",
        "    pickle.dump(best_model, f)\n",
        "\n",
        "\n",
        "'''# Use pickle to load the saved model\n",
        "with open('iris_model.pkl', 'rb') as f:\n",
        "    clf_loaded = pickle.load(f)'''"
      ],
      "metadata": {
        "id": "gSVa_8AVZe3p",
        "colab": {
          "base_uri": "https://localhost:8080/",
          "height": 52
        },
        "outputId": "84d37912-1007-4263-9fca-243750f5b5bd"
      },
      "execution_count": 37,
      "outputs": [
        {
          "output_type": "execute_result",
          "data": {
            "text/plain": [
              "\"# Use pickle to load the saved model\\nwith open('iris_model.pkl', 'rb') as f:\\n    clf_loaded = pickle.load(f)\""
            ],
            "application/vnd.google.colaboratory.intrinsic+json": {
              "type": "string"
            }
          },
          "metadata": {},
          "execution_count": 37
        }
      ]
    }
  ],
  "metadata": {
    "colab": {
      "collapsed_sections": [
        "8_F6q74i6aIm",
        "Np283QOk7ISU",
        "wAFkTkdwng3U",
        "e8zqbSPksjKp",
        "AL0HwN1IMHN8"
      ],
      "provenance": []
    },
    "kernelspec": {
      "display_name": "Python 3",
      "name": "python3"
    },
    "language_info": {
      "name": "python"
    }
  },
  "nbformat": 4,
  "nbformat_minor": 0
}